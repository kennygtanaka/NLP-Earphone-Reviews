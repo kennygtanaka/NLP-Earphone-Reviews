{
 "cells": [
  {
   "cell_type": "code",
   "execution_count": 1,
   "id": "e474dea0",
   "metadata": {},
   "outputs": [
    {
     "name": "stdout",
     "output_type": "stream",
     "text": [
      "Collecting package metadata (current_repodata.json): ...working... done\n",
      "Solving environment: ...working... done\n",
      "\n",
      "# All requested packages already installed.\n",
      "\n",
      "\n",
      "Note: you may need to restart the kernel to use updated packages.\n"
     ]
    }
   ],
   "source": [
    "conda install -c conda-forge wordcloud"
   ]
  },
  {
   "cell_type": "code",
   "execution_count": 3,
   "id": "a1f212df",
   "metadata": {},
   "outputs": [
    {
     "name": "stderr",
     "output_type": "stream",
     "text": [
      "[nltk_data] Downloading package vader_lexicon to\n",
      "[nltk_data]     C:\\Users\\kenma\\AppData\\Roaming\\nltk_data...\n",
      "[nltk_data]   Package vader_lexicon is already up-to-date!\n"
     ]
    }
   ],
   "source": [
    "import pandas as pd \n",
    "import numpy as np\n",
    "import seaborn as sns\n",
    "import wordcloud\n",
    "import nltk \n",
    "nltk.download('vader_lexicon')\n",
    "from sklearn.model_selection import train_test_split \n",
    "from sklearn.ensemble import RandomForestClassifier\n",
    "from sklearn import metrics\n",
    "from wordcloud import WordCloud\n",
    "from nltk.corpus import stopwords\n",
    "from nltk.sentiment.vader import SentimentIntensityAnalyzer\n",
    "from sklearn.metrics import accuracy_score,classification_report,confusion_matrix"
   ]
  },
  {
   "cell_type": "code",
   "execution_count": 4,
   "id": "90b2096c",
   "metadata": {},
   "outputs": [],
   "source": [
    "#Set Seaborn\n",
    "sns.set()"
   ]
  },
  {
   "cell_type": "code",
   "execution_count": 5,
   "id": "dd7dbb87",
   "metadata": {},
   "outputs": [],
   "source": [
    "#Reading in data and data transformation \n",
    "df = pd.read_csv(\"AllProductReviews.csv\")\n",
    "df = df.rename(columns = {\"ReviewBody\":\"body\", \"ReviewTitle\":\"title\", \"ReviewStar\":\"stars\",\"Product\":\"earphone\"})\n",
    "df[\"description\"] = df[\"body\"] + df[\"title\"]\n",
    "df[\"text_length\"] = df[\"description\"].apply(lambda x: len(x))"
   ]
  },
  {
   "cell_type": "code",
   "execution_count": 6,
   "id": "ccf13f02",
   "metadata": {},
   "outputs": [
    {
     "name": "stdout",
     "output_type": "stream",
     "text": [
      "<class 'pandas.core.frame.DataFrame'>\n",
      "RangeIndex: 14337 entries, 0 to 14336\n",
      "Data columns (total 6 columns):\n",
      " #   Column       Non-Null Count  Dtype \n",
      "---  ------       --------------  ----- \n",
      " 0   title        14337 non-null  object\n",
      " 1   body         14337 non-null  object\n",
      " 2   stars        14337 non-null  int64 \n",
      " 3   earphone     14337 non-null  object\n",
      " 4   description  14337 non-null  object\n",
      " 5   text_length  14337 non-null  int64 \n",
      "dtypes: int64(2), object(4)\n",
      "memory usage: 672.2+ KB\n"
     ]
    }
   ],
   "source": [
    "#Check data length, values and data types \n",
    "df.info()"
   ]
  },
  {
   "cell_type": "code",
   "execution_count": 7,
   "id": "ae08343d",
   "metadata": {},
   "outputs": [
    {
     "data": {
      "text/html": [
       "<div>\n",
       "<style scoped>\n",
       "    .dataframe tbody tr th:only-of-type {\n",
       "        vertical-align: middle;\n",
       "    }\n",
       "\n",
       "    .dataframe tbody tr th {\n",
       "        vertical-align: top;\n",
       "    }\n",
       "\n",
       "    .dataframe thead th {\n",
       "        text-align: right;\n",
       "    }\n",
       "</style>\n",
       "<table border=\"1\" class=\"dataframe\">\n",
       "  <thead>\n",
       "    <tr style=\"text-align: right;\">\n",
       "      <th></th>\n",
       "      <th>title</th>\n",
       "      <th>body</th>\n",
       "      <th>stars</th>\n",
       "      <th>earphone</th>\n",
       "      <th>description</th>\n",
       "      <th>text_length</th>\n",
       "    </tr>\n",
       "  </thead>\n",
       "  <tbody>\n",
       "    <tr>\n",
       "      <th>0</th>\n",
       "      <td>Honest review of an edm music lover\\n</td>\n",
       "      <td>No doubt it has a great bass and to a great ex...</td>\n",
       "      <td>3</td>\n",
       "      <td>boAt Rockerz 255</td>\n",
       "      <td>No doubt it has a great bass and to a great ex...</td>\n",
       "      <td>479</td>\n",
       "    </tr>\n",
       "    <tr>\n",
       "      <th>1</th>\n",
       "      <td>Unreliable earphones with high cost\\n</td>\n",
       "      <td>This  earphones are unreliable, i bought it be...</td>\n",
       "      <td>1</td>\n",
       "      <td>boAt Rockerz 255</td>\n",
       "      <td>This  earphones are unreliable, i bought it be...</td>\n",
       "      <td>407</td>\n",
       "    </tr>\n",
       "    <tr>\n",
       "      <th>2</th>\n",
       "      <td>Really good and durable.\\n</td>\n",
       "      <td>i bought itfor 999,I purchased it second time,...</td>\n",
       "      <td>4</td>\n",
       "      <td>boAt Rockerz 255</td>\n",
       "      <td>i bought itfor 999,I purchased it second time,...</td>\n",
       "      <td>509</td>\n",
       "    </tr>\n",
       "    <tr>\n",
       "      <th>3</th>\n",
       "      <td>stopped working in just 14 days\\n</td>\n",
       "      <td>Its sound quality is adorable. overall it was ...</td>\n",
       "      <td>1</td>\n",
       "      <td>boAt Rockerz 255</td>\n",
       "      <td>Its sound quality is adorable. overall it was ...</td>\n",
       "      <td>231</td>\n",
       "    </tr>\n",
       "    <tr>\n",
       "      <th>4</th>\n",
       "      <td>Just Awesome Wireless Headphone under 1000...😉\\n</td>\n",
       "      <td>Its Awesome... Good sound quality &amp; 8-9 hrs ba...</td>\n",
       "      <td>5</td>\n",
       "      <td>boAt Rockerz 255</td>\n",
       "      <td>Its Awesome... Good sound quality &amp; 8-9 hrs ba...</td>\n",
       "      <td>282</td>\n",
       "    </tr>\n",
       "    <tr>\n",
       "      <th>5</th>\n",
       "      <td>Charging port not working\\n</td>\n",
       "      <td>After 11 days, the charging port isn't working...</td>\n",
       "      <td>1</td>\n",
       "      <td>boAt Rockerz 255</td>\n",
       "      <td>After 11 days, the charging port isn't working...</td>\n",
       "      <td>217</td>\n",
       "    </tr>\n",
       "    <tr>\n",
       "      <th>6</th>\n",
       "      <td>Loved the color and sound !!\\n</td>\n",
       "      <td>Sound-4.5/5Build quality-4.5/5Battery life -4/...</td>\n",
       "      <td>4</td>\n",
       "      <td>boAt Rockerz 255</td>\n",
       "      <td>Sound-4.5/5Build quality-4.5/5Battery life -4/...</td>\n",
       "      <td>504</td>\n",
       "    </tr>\n",
       "    <tr>\n",
       "      <th>7</th>\n",
       "      <td>Great sound with worst mic.\\n</td>\n",
       "      <td>After one month usage reviewing this .Pros-1- ...</td>\n",
       "      <td>3</td>\n",
       "      <td>boAt Rockerz 255</td>\n",
       "      <td>After one month usage reviewing this .Pros-1- ...</td>\n",
       "      <td>198</td>\n",
       "    </tr>\n",
       "    <tr>\n",
       "      <th>8</th>\n",
       "      <td>Battery life is good enough to keep going all ...</td>\n",
       "      <td>I can’t get enough of this earphone! The bass ...</td>\n",
       "      <td>5</td>\n",
       "      <td>boAt Rockerz 255</td>\n",
       "      <td>I can’t get enough of this earphone! The bass ...</td>\n",
       "      <td>445</td>\n",
       "    </tr>\n",
       "    <tr>\n",
       "      <th>9</th>\n",
       "      <td>Very very bad Durabity\\n</td>\n",
       "      <td>The product durability is 1 month..I just lost...</td>\n",
       "      <td>1</td>\n",
       "      <td>boAt Rockerz 255</td>\n",
       "      <td>The product durability is 1 month..I just lost...</td>\n",
       "      <td>381</td>\n",
       "    </tr>\n",
       "    <tr>\n",
       "      <th>10</th>\n",
       "      <td>Running has become comfortable now\\n</td>\n",
       "      <td>The sound quality is good. I mean it can’t be ...</td>\n",
       "      <td>4</td>\n",
       "      <td>boAt Rockerz 255</td>\n",
       "      <td>The sound quality is good. I mean it can’t be ...</td>\n",
       "      <td>247</td>\n",
       "    </tr>\n",
       "    <tr>\n",
       "      <th>11</th>\n",
       "      <td>Disappointed\\n</td>\n",
       "      <td>What on earth is the use of buying such produc...</td>\n",
       "      <td>1</td>\n",
       "      <td>boAt Rockerz 255</td>\n",
       "      <td>What on earth is the use of buying such produc...</td>\n",
       "      <td>154</td>\n",
       "    </tr>\n",
       "    <tr>\n",
       "      <th>12</th>\n",
       "      <td>Extremely good BT earphones!! Loud and Super B...</td>\n",
       "      <td>Hey all, I have used quite a few budget earpho...</td>\n",
       "      <td>5</td>\n",
       "      <td>boAt Rockerz 255</td>\n",
       "      <td>Hey all, I have used quite a few budget earpho...</td>\n",
       "      <td>713</td>\n",
       "    </tr>\n",
       "    <tr>\n",
       "      <th>13</th>\n",
       "      <td>Product not good quality\\n</td>\n",
       "      <td>Product stopped working in a month time\\n</td>\n",
       "      <td>1</td>\n",
       "      <td>boAt Rockerz 255</td>\n",
       "      <td>Product stopped working in a month time\\nProdu...</td>\n",
       "      <td>65</td>\n",
       "    </tr>\n",
       "    <tr>\n",
       "      <th>14</th>\n",
       "      <td>Not at all expected this on 0th Day of purchase\\n</td>\n",
       "      <td>Right speaker is not working at all. Useless p...</td>\n",
       "      <td>1</td>\n",
       "      <td>boAt Rockerz 255</td>\n",
       "      <td>Right speaker is not working at all. Useless p...</td>\n",
       "      <td>121</td>\n",
       "    </tr>\n",
       "    <tr>\n",
       "      <th>15</th>\n",
       "      <td>Good Earphones with good sound quality and bui...</td>\n",
       "      <td>Received this BoAt 255 earphones yesterday eve...</td>\n",
       "      <td>3</td>\n",
       "      <td>boAt Rockerz 255</td>\n",
       "      <td>Received this BoAt 255 earphones yesterday eve...</td>\n",
       "      <td>904</td>\n",
       "    </tr>\n",
       "    <tr>\n",
       "      <th>16</th>\n",
       "      <td>Good Sound bad designed\\n</td>\n",
       "      <td>This sound and bass quality is good battery li...</td>\n",
       "      <td>4</td>\n",
       "      <td>boAt Rockerz 255</td>\n",
       "      <td>This sound and bass quality is good battery li...</td>\n",
       "      <td>242</td>\n",
       "    </tr>\n",
       "    <tr>\n",
       "      <th>17</th>\n",
       "      <td>Good product with decent pros\\n</td>\n",
       "      <td>The product is a good buy if you are looking f...</td>\n",
       "      <td>3</td>\n",
       "      <td>boAt Rockerz 255</td>\n",
       "      <td>The product is a good buy if you are looking f...</td>\n",
       "      <td>658</td>\n",
       "    </tr>\n",
       "    <tr>\n",
       "      <th>18</th>\n",
       "      <td>Below average product, don’t buy\\n</td>\n",
       "      <td>Below average product. Not happy at all.Pros :...</td>\n",
       "      <td>1</td>\n",
       "      <td>boAt Rockerz 255</td>\n",
       "      <td>Below average product. Not happy at all.Pros :...</td>\n",
       "      <td>304</td>\n",
       "    </tr>\n",
       "    <tr>\n",
       "      <th>19</th>\n",
       "      <td>Overall good but not that worth\\n</td>\n",
       "      <td>he only problem is that as earpieces are of me...</td>\n",
       "      <td>3</td>\n",
       "      <td>boAt Rockerz 255</td>\n",
       "      <td>he only problem is that as earpieces are of me...</td>\n",
       "      <td>719</td>\n",
       "    </tr>\n",
       "  </tbody>\n",
       "</table>\n",
       "</div>"
      ],
      "text/plain": [
       "                                                title  \\\n",
       "0               Honest review of an edm music lover\\n   \n",
       "1               Unreliable earphones with high cost\\n   \n",
       "2                          Really good and durable.\\n   \n",
       "3                   stopped working in just 14 days\\n   \n",
       "4    Just Awesome Wireless Headphone under 1000...😉\\n   \n",
       "5                         Charging port not working\\n   \n",
       "6                      Loved the color and sound !!\\n   \n",
       "7                       Great sound with worst mic.\\n   \n",
       "8   Battery life is good enough to keep going all ...   \n",
       "9                            Very very bad Durabity\\n   \n",
       "10               Running has become comfortable now\\n   \n",
       "11                                     Disappointed\\n   \n",
       "12  Extremely good BT earphones!! Loud and Super B...   \n",
       "13                         Product not good quality\\n   \n",
       "14  Not at all expected this on 0th Day of purchase\\n   \n",
       "15  Good Earphones with good sound quality and bui...   \n",
       "16                          Good Sound bad designed\\n   \n",
       "17                    Good product with decent pros\\n   \n",
       "18                 Below average product, don’t buy\\n   \n",
       "19                  Overall good but not that worth\\n   \n",
       "\n",
       "                                                 body  stars  \\\n",
       "0   No doubt it has a great bass and to a great ex...      3   \n",
       "1   This  earphones are unreliable, i bought it be...      1   \n",
       "2   i bought itfor 999,I purchased it second time,...      4   \n",
       "3   Its sound quality is adorable. overall it was ...      1   \n",
       "4   Its Awesome... Good sound quality & 8-9 hrs ba...      5   \n",
       "5   After 11 days, the charging port isn't working...      1   \n",
       "6   Sound-4.5/5Build quality-4.5/5Battery life -4/...      4   \n",
       "7   After one month usage reviewing this .Pros-1- ...      3   \n",
       "8   I can’t get enough of this earphone! The bass ...      5   \n",
       "9   The product durability is 1 month..I just lost...      1   \n",
       "10  The sound quality is good. I mean it can’t be ...      4   \n",
       "11  What on earth is the use of buying such produc...      1   \n",
       "12  Hey all, I have used quite a few budget earpho...      5   \n",
       "13          Product stopped working in a month time\\n      1   \n",
       "14  Right speaker is not working at all. Useless p...      1   \n",
       "15  Received this BoAt 255 earphones yesterday eve...      3   \n",
       "16  This sound and bass quality is good battery li...      4   \n",
       "17  The product is a good buy if you are looking f...      3   \n",
       "18  Below average product. Not happy at all.Pros :...      1   \n",
       "19  he only problem is that as earpieces are of me...      3   \n",
       "\n",
       "            earphone                                        description  \\\n",
       "0   boAt Rockerz 255  No doubt it has a great bass and to a great ex...   \n",
       "1   boAt Rockerz 255  This  earphones are unreliable, i bought it be...   \n",
       "2   boAt Rockerz 255  i bought itfor 999,I purchased it second time,...   \n",
       "3   boAt Rockerz 255  Its sound quality is adorable. overall it was ...   \n",
       "4   boAt Rockerz 255  Its Awesome... Good sound quality & 8-9 hrs ba...   \n",
       "5   boAt Rockerz 255  After 11 days, the charging port isn't working...   \n",
       "6   boAt Rockerz 255  Sound-4.5/5Build quality-4.5/5Battery life -4/...   \n",
       "7   boAt Rockerz 255  After one month usage reviewing this .Pros-1- ...   \n",
       "8   boAt Rockerz 255  I can’t get enough of this earphone! The bass ...   \n",
       "9   boAt Rockerz 255  The product durability is 1 month..I just lost...   \n",
       "10  boAt Rockerz 255  The sound quality is good. I mean it can’t be ...   \n",
       "11  boAt Rockerz 255  What on earth is the use of buying such produc...   \n",
       "12  boAt Rockerz 255  Hey all, I have used quite a few budget earpho...   \n",
       "13  boAt Rockerz 255  Product stopped working in a month time\\nProdu...   \n",
       "14  boAt Rockerz 255  Right speaker is not working at all. Useless p...   \n",
       "15  boAt Rockerz 255  Received this BoAt 255 earphones yesterday eve...   \n",
       "16  boAt Rockerz 255  This sound and bass quality is good battery li...   \n",
       "17  boAt Rockerz 255  The product is a good buy if you are looking f...   \n",
       "18  boAt Rockerz 255  Below average product. Not happy at all.Pros :...   \n",
       "19  boAt Rockerz 255  he only problem is that as earpieces are of me...   \n",
       "\n",
       "    text_length  \n",
       "0           479  \n",
       "1           407  \n",
       "2           509  \n",
       "3           231  \n",
       "4           282  \n",
       "5           217  \n",
       "6           504  \n",
       "7           198  \n",
       "8           445  \n",
       "9           381  \n",
       "10          247  \n",
       "11          154  \n",
       "12          713  \n",
       "13           65  \n",
       "14          121  \n",
       "15          904  \n",
       "16          242  \n",
       "17          658  \n",
       "18          304  \n",
       "19          719  "
      ]
     },
     "execution_count": 7,
     "metadata": {},
     "output_type": "execute_result"
    }
   ],
   "source": [
    "#Explore first 20 rows of data\n",
    "df.head(20)"
   ]
  },
  {
   "cell_type": "code",
   "execution_count": 8,
   "id": "5d6b86a0",
   "metadata": {},
   "outputs": [
    {
     "data": {
      "text/plain": [
       "[Text(0.5, 0, 'Count'), Text(0, 0.5, 'Stars')]"
      ]
     },
     "execution_count": 8,
     "metadata": {},
     "output_type": "execute_result"
    },
    {
     "data": {
      "image/png": "[encoded data removed]",
      "text/plain": [
       "<Figure size 432x288 with 1 Axes>"
      ]
     },
     "metadata": {},
     "output_type": "display_data"
    }
   ],
   "source": [
    "#Get value counts for star ratings \n",
    "plt1 = df['stars'].value_counts().sort_index(ascending=False).plot(kind = 'barh')\n",
    "plt1.set_title('Review Star Counts')\n",
    "plt1.set(xlabel='Count', ylabel = 'Stars')"
   ]
  },
  {
   "cell_type": "code",
   "execution_count": 9,
   "id": "8ffaa5a0",
   "metadata": {},
   "outputs": [
    {
     "data": {
      "text/plain": [
       "Text(0.5, 1.0, 'Text Length vs. Stars')"
      ]
     },
     "execution_count": 9,
     "metadata": {},
     "output_type": "execute_result"
    },
    {
     "data": {
      "image/png": "[encoded data removed]",
      "text/plain": [
       "<Figure size 432x288 with 1 Axes>"
      ]
     },
     "metadata": {},
     "output_type": "display_data"
    }
   ],
   "source": [
    "#Plot for review text length vs. stars in review\n",
    "plt2 = sns.barplot(x=df['stars'], y=df['text_length'])\n",
    "plt2.set_title('Text Length vs. Stars')"
   ]
  },
  {
   "cell_type": "code",
   "execution_count": 10,
   "id": "7da23bbb",
   "metadata": {},
   "outputs": [
    {
     "data": {
      "text/plain": [
       "Text(0.5, 1.0, 'Earphones vs. Average Rating')"
      ]
     },
     "execution_count": 10,
     "metadata": {},
     "output_type": "execute_result"
    },
    {
     "data": {
      "image/png": "[encoded data removed]",
      "text/plain": [
       "<Figure size 432x288 with 1 Axes>"
      ]
     },
     "metadata": {},
     "output_type": "display_data"
    }
   ],
   "source": [
    "#Plot earphones vs. review counts \n",
    "plt3 = sns.barplot(x=df['stars'], y=df['earphone'])\n",
    "plt3.set_title('Earphones vs. Average Rating')"
   ]
  },
  {
   "cell_type": "code",
   "execution_count": 11,
   "id": "fd31543b",
   "metadata": {},
   "outputs": [
    {
     "data": {
      "text/plain": [
       "Text(0.5, 1.0, 'Earphones vs. Stars & Text Length')"
      ]
     },
     "execution_count": 11,
     "metadata": {},
     "output_type": "execute_result"
    },
    {
     "data": {
      "image/png": "[encoded data removed]",
      "text/plain": [
       "<Figure size 432x288 with 2 Axes>"
      ]
     },
     "metadata": {},
     "output_type": "display_data"
    }
   ],
   "source": [
    "#Heatmap comparing reviews with text length and stars \n",
    "plt4_df = df[['earphone', 'stars', 'text_length']]\n",
    "plt4_data = pd.pivot_table(plt4_df, values = 'text_length', index = ['earphone'], columns = 'stars')\n",
    "plt4 = sns.heatmap(plt4_data, cmap = 'Blues') \n",
    "plt4.set_title('Earphones vs. Stars & Text Length')"
   ]
  },
  {
   "cell_type": "code",
   "execution_count": 12,
   "id": "c769b7d9",
   "metadata": {
    "scrolled": true
   },
   "outputs": [],
   "source": [
    "#Creating sentiment analysis scores from Vader \n",
    "sid = SentimentIntensityAnalyzer() \n",
    "df['scores'] = df['description'].apply(lambda x: sid.polarity_scores(x))\n",
    "df['compound']  = df['scores'].apply(lambda x: x['compound'])\n",
    "df['comp_score'] = df['compound'].apply(lambda x: 'pos' if x >=0 else 'neg')\n",
    "df['review_score'] = df['stars'].apply(lambda x: 'pos' if x >=4 else 'neg')"
   ]
  },
  {
   "cell_type": "code",
   "execution_count": 13,
   "id": "852c2fe2",
   "metadata": {},
   "outputs": [
    {
     "data": {
      "text/plain": [
       "0.8315547185603683"
      ]
     },
     "execution_count": 13,
     "metadata": {},
     "output_type": "execute_result"
    }
   ],
   "source": [
    "#Calculating accuracy of Vader positive/negative classification \n",
    "accuracy_score(df['comp_score'],df['review_score'])"
   ]
  },
  {
   "cell_type": "code",
   "execution_count": 14,
   "id": "72ed58fe",
   "metadata": {},
   "outputs": [
    {
     "name": "stdout",
     "output_type": "stream",
     "text": [
      "              precision    recall  f1-score   support\n",
      "\n",
      "         neg       0.62      0.85      0.72      3612\n",
      "         pos       0.94      0.83      0.88     10725\n",
      "\n",
      "    accuracy                           0.83     14337\n",
      "   macro avg       0.78      0.84      0.80     14337\n",
      "weighted avg       0.86      0.83      0.84     14337\n",
      "\n"
     ]
    }
   ],
   "source": [
    "print(classification_report(df['comp_score'],df['review_score']))"
   ]
  },
  {
   "cell_type": "code",
   "execution_count": 15,
   "id": "6a0ea172",
   "metadata": {},
   "outputs": [],
   "source": [
    "df['negative']  = df['scores'].apply(lambda score_dict: score_dict['neg'])\n",
    "df['neutral']  = df['scores'].apply(lambda score_dict: score_dict['neu'])\n",
    "df['positive']  = df['scores'].apply(lambda score_dict: score_dict['pos'])"
   ]
  },
  {
   "cell_type": "code",
   "execution_count": 16,
   "id": "717ebdf6",
   "metadata": {},
   "outputs": [
    {
     "data": {
      "text/plain": [
       "Text(0.5, 0.98, 'Stars vs. Text Sentiment')"
      ]
     },
     "execution_count": 16,
     "metadata": {},
     "output_type": "execute_result"
    },
    {
     "data": {
      "image/png": "[encoded data removed]",
      "text/plain": [
       "<Figure size 441.35x360 with 1 Axes>"
      ]
     },
     "metadata": {},
     "output_type": "display_data"
    }
   ],
   "source": [
    "#Stars vs. Text Sentiment Ratings \n",
    "plt5_df = pd.melt(df[['stars', 'negative', 'neutral', 'positive']], id_vars = \"stars\", var_name = \"rating\", value_name = \"score\")\n",
    "plt5 = sns.catplot(x='stars', y = 'score', hue = 'rating', data = plt5_df, kind = 'bar')\n",
    "plt5.fig.subplots_adjust(top=0.9)\n",
    "plt5.fig.suptitle('Stars vs. Text Sentiment')"
   ]
  },
  {
   "cell_type": "code",
   "execution_count": 17,
   "id": "9a185f75",
   "metadata": {},
   "outputs": [],
   "source": [
    "df['earphone_id'] = df['earphone'].apply(lambda c: str(hash(c)))"
   ]
  },
  {
   "cell_type": "code",
   "execution_count": 18,
   "id": "d2a46268",
   "metadata": {},
   "outputs": [],
   "source": [
    "earphone_dict = pd.Series(df['earphone'].values, index = df['earphone_id']).to_dict()"
   ]
  },
  {
   "cell_type": "code",
   "execution_count": 19,
   "id": "4f7b1a8a",
   "metadata": {},
   "outputs": [
    {
     "data": {
      "text/plain": [
       "{'1276990541662979173': 'boAt Rockerz 255',\n",
       " '5848793224119208100': 'Flybot Wave',\n",
       " '-8693671856494775507': 'Flybot Boom',\n",
       " '1480969147858709423': 'PTron Intunes',\n",
       " '3189089981926891343': 'Flybot Beat',\n",
       " '9069679449116119755': 'Samsung EO-BG950CBEIN',\n",
       " '-1004008775225928241': 'JBL T205BT',\n",
       " '-8084102898545224577': 'Sennheiser CX 6.0BT',\n",
       " '-179537299289337337': 'Skullcandy S2PGHW-174',\n",
       " '9006971826554272965': 'JBL T110BT'}"
      ]
     },
     "execution_count": 19,
     "metadata": {},
     "output_type": "execute_result"
    }
   ],
   "source": [
    "earphone_dict"
   ]
  },
  {
   "cell_type": "code",
   "execution_count": 36,
   "id": "f7fa10a7",
   "metadata": {},
   "outputs": [],
   "source": [
    "#Random Forest Regressor star prediction \n",
    "X = df[['earphone_id', 'compound', 'negative', 'neutral', 'positive','text_length']]\n",
    "y = df['stars']"
   ]
  },
  {
   "cell_type": "code",
   "execution_count": 37,
   "id": "933a41a9",
   "metadata": {},
   "outputs": [],
   "source": [
    "X_train, X_test, y_train, y_test = train_test_split(X, y, test_size=0.2, random_state=0)"
   ]
  },
  {
   "cell_type": "code",
   "execution_count": 38,
   "id": "c5ec23cc",
   "metadata": {},
   "outputs": [],
   "source": [
    "rf = RandomForestClassifier()\n",
    "rf.fit(X_train, y_train)\n",
    "y_pred = rf.predict(X_test)"
   ]
  },
  {
   "cell_type": "code",
   "execution_count": 39,
   "id": "f2948961",
   "metadata": {},
   "outputs": [
    {
     "data": {
      "text/plain": [
       "0.5118549511854951"
      ]
     },
     "execution_count": 39,
     "metadata": {},
     "output_type": "execute_result"
    }
   ],
   "source": [
    "accuracy_score(y_test, y_pred)"
   ]
  },
  {
   "cell_type": "code",
   "execution_count": 40,
   "id": "db40aa35",
   "metadata": {},
   "outputs": [],
   "source": [
    "#The parameter lists were adjusted after a few iterations. \n",
    "n_estimators = [1400, 1500, 1600, 1700, 1800]\n",
    "max_features = ['auto', 'sqrt']\n",
    "max_depth = [6, 8, 10, 12]\n",
    "max_depth.append(None)\n",
    "min_samples_split = [2, 3, 4]\n",
    "min_samples_leaf = [2, 3, 4]\n",
    "bootstrap = [True, False]\n",
    "\n",
    "random_grid = {'n_estimators': n_estimators,\n",
    "               'max_features': max_features,\n",
    "               'max_depth': max_depth,\n",
    "               'min_samples_split': min_samples_split,\n",
    "               'min_samples_leaf': min_samples_leaf,\n",
    "               'bootstrap': bootstrap}"
   ]
  },
  {
   "cell_type": "code",
   "execution_count": 41,
   "id": "50a6d160",
   "metadata": {},
   "outputs": [],
   "source": [
    "from sklearn.model_selection import RandomizedSearchCV\n",
    "rf_random = RandomizedSearchCV(estimator = rf, param_distributions = random_grid, n_iter = 100, cv = 3, verbose=2, random_state=42, n_jobs = -1)"
   ]
  },
  {
   "cell_type": "code",
   "execution_count": 42,
   "id": "7644e280",
   "metadata": {},
   "outputs": [
    {
     "name": "stdout",
     "output_type": "stream",
     "text": [
      "Fitting 3 folds for each of 100 candidates, totalling 300 fits\n"
     ]
    },
    {
     "data": {
      "text/plain": [
       "RandomizedSearchCV(cv=3, estimator=RandomForestClassifier(), n_iter=100,\n",
       "                   n_jobs=-1,\n",
       "                   param_distributions={'bootstrap': [True, False],\n",
       "                                        'max_depth': [6, 8, 10, 12, None],\n",
       "                                        'max_features': ['auto', 'sqrt'],\n",
       "                                        'min_samples_leaf': [2, 3, 4],\n",
       "                                        'min_samples_split': [2, 3, 4],\n",
       "                                        'n_estimators': [1400, 1500, 1600, 1700,\n",
       "                                                         1800]},\n",
       "                   random_state=42, verbose=2)"
      ]
     },
     "execution_count": 42,
     "metadata": {},
     "output_type": "execute_result"
    }
   ],
   "source": [
    "rf_random.fit(X_train, y_train)"
   ]
  },
  {
   "cell_type": "code",
   "execution_count": 43,
   "id": "dc693fad",
   "metadata": {},
   "outputs": [
    {
     "data": {
      "text/plain": [
       "{'n_estimators': 1800,\n",
       " 'min_samples_split': 4,\n",
       " 'min_samples_leaf': 4,\n",
       " 'max_features': 'auto',\n",
       " 'max_depth': 6,\n",
       " 'bootstrap': False}"
      ]
     },
     "execution_count": 43,
     "metadata": {},
     "output_type": "execute_result"
    }
   ],
   "source": [
    "rf_random.best_params_"
   ]
  },
  {
   "cell_type": "code",
   "execution_count": 44,
   "id": "b9423bb1",
   "metadata": {},
   "outputs": [
    {
     "data": {
      "text/plain": [
       "0.5543933054393305"
      ]
     },
     "execution_count": 44,
     "metadata": {},
     "output_type": "execute_result"
    }
   ],
   "source": [
    "y_pred = rf_random.best_estimator_.predict(X_test)\n",
    "accuracy_score(y_test, y_pred)"
   ]
  }
 ],
 "metadata": {
  "kernelspec": {
   "display_name": "Python 3",
   "language": "python",
   "name": "python3"
  },
  "language_info": {
   "codemirror_mode": {
    "name": "ipython",
    "version": 3
   },
   "file_extension": ".py",
   "mimetype": "text/x-python",
   "name": "python",
   "nbconvert_exporter": "python",
   "pygments_lexer": "ipython3",
   "version": "3.8.8"
  }
 },
 "nbformat": 4,
 "nbformat_minor": 5
}
